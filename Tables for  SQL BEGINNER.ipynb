{
 "cells": [
  {
   "cell_type": "markdown",
   "metadata": {
    "application/vnd.databricks.v1+cell": {
     "cellMetadata": {
      "byteLimit": 2048000,
      "rowLimit": 10000
     },
     "inputWidgets": {},
     "nuid": "5b4bb69f-84ae-40cd-b83b-5b33052c1046",
     "showTitle": false,
     "tableResultSettingsMap": {},
     "title": ""
    }
   },
   "source": [
    "## _🗂 Sample Tables Overview_\n",
    "\n",
    "| Table           | Purpose                                 |\n",
    "| --------------- | --------------------------------------- |\n",
    "| **Departments** | List of departments (for joins)         |\n",
    "| **Employees**   | Employees with salaries, department IDs |\n",
    "| **Customers**   | Customers placing orders                |\n",
    "| **Orders**      | Orders placed by customers              |\n",
    "| **Suppliers**   | supplied by                             |\n"
   ]
  },
  {
   "cell_type": "markdown",
   "metadata": {
    "application/vnd.databricks.v1+cell": {
     "cellMetadata": {
      "byteLimit": 2048000,
      "rowLimit": 10000
     },
     "inputWidgets": {},
     "nuid": "a8079a14-5c1f-4597-80b7-cc57ead9f871",
     "showTitle": false,
     "tableResultSettingsMap": {},
     "title": ""
    }
   },
   "source": [
    "## 1️⃣ Departments Table"
   ]
  },
  {
   "cell_type": "code",
   "execution_count": 0,
   "metadata": {
    "application/vnd.databricks.v1+cell": {
     "cellMetadata": {
      "byteLimit": 2048000,
      "rowLimit": 10000
     },
     "inputWidgets": {},
     "nuid": "e3b895bd-fc9e-4b2b-9bfd-516475d8d386",
     "showTitle": false,
     "tableResultSettingsMap": {},
     "title": ""
    }
   },
   "outputs": [],
   "source": [
    "CREATE TABLE Departments (\n",
    "  DepartmentID INT PRIMARY KEY,\n",
    "  DepartmentName STRING NOT NULL\n",
    ");\n",
    "\n",
    "INSERT INTO Departments (DepartmentID, DepartmentName) VALUES\n",
    "(1,'IT'),\n",
    "(2,'HR'),\n",
    "(3,'Finance'),\n",
    "(4,'Marketing');"
   ]
  },
  {
   "cell_type": "markdown",
   "metadata": {
    "application/vnd.databricks.v1+cell": {
     "cellMetadata": {
      "byteLimit": 2048000,
      "rowLimit": 10000
     },
     "inputWidgets": {},
     "nuid": "65a54f78-2c8c-46bb-b428-50dd24a0b1a6",
     "showTitle": false,
     "tableResultSettingsMap": {},
     "title": ""
    }
   },
   "source": [
    "## 2️⃣ Employees Table"
   ]
  },
  {
   "cell_type": "code",
   "execution_count": 0,
   "metadata": {
    "application/vnd.databricks.v1+cell": {
     "cellMetadata": {
      "byteLimit": 2048000,
      "rowLimit": 10000
     },
     "inputWidgets": {},
     "nuid": "f1bf4ba7-0cb0-4531-9af2-e26a55cd11da",
     "showTitle": false,
     "tableResultSettingsMap": {},
     "title": ""
    }
   },
   "outputs": [],
   "source": [
    "CREATE TABLE Employees (\n",
    "  EmployeeID INT PRIMARY KEY,\n",
    "  FirstName STRING,\n",
    "  LastName STRING,\n",
    "  DepartmentID INT,\n",
    "  Salary DECIMAL(10,2),\n",
    "  HireDate DATE,\n",
    "  ManagerID INT,\n",
    "  Phone STRING\n",
    ");\n",
    "\n",
    "INSERT INTO Employees (\n",
    "  EmployeeID, FirstName, LastName, DepartmentID, Salary, HireDate, ManagerID, Phone\n",
    ") VALUES\n",
    "(101,'John','Smith',1,75000,'2020-02-10',NULL,'555-1234'),\n",
    "(102,'Mary','Johnson',2,60000,'2019-07-15',101,'555-5678'),\n",
    "(103,'James','Brown',1,82000,'2021-01-20',101,NULL),\n",
    "(104,'Patricia','Davis',3,55000,'2018-10-05',102,'555-3456'),\n",
    "(105,'Robert','Wilson',4,50000,'2022-03-18',NULL,'555-7890');"
   ]
  },
  {
   "cell_type": "markdown",
   "metadata": {
    "application/vnd.databricks.v1+cell": {
     "cellMetadata": {
      "byteLimit": 2048000,
      "rowLimit": 10000
     },
     "inputWidgets": {},
     "nuid": "d69e1637-9e6b-4ff5-8baa-cdddf8bd9da7",
     "showTitle": false,
     "tableResultSettingsMap": {},
     "title": ""
    }
   },
   "source": [
    "## 3️⃣ Customers Table"
   ]
  },
  {
   "cell_type": "code",
   "execution_count": 0,
   "metadata": {
    "application/vnd.databricks.v1+cell": {
     "cellMetadata": {
      "byteLimit": 2048000,
      "rowLimit": 10000
     },
     "inputWidgets": {},
     "nuid": "648a8e22-8fc5-428b-80db-cbd4f01c902f",
     "showTitle": false,
     "tableResultSettingsMap": {},
     "title": ""
    }
   },
   "outputs": [],
   "source": [
    "CREATE TABLE Customers (\n",
    "  CustomerID INT,\n",
    "  CustomerName STRING,\n",
    "  City STRING,\n",
    "  JoinDate DATE DEFAULT CURRENT_DATE\n",
    ")\n",
    "TBLPROPERTIES (\n",
    "  'delta.feature.allowColumnDefaults' = 'enabled'\n",
    ");\n",
    "\n",
    "INSERT INTO Customers (\n",
    "  CustomerID, CustomerName, City, JoinDate\n",
    ") VALUES\n",
    "(1,'Alice','New York','2021-05-10'),\n",
    "(2,'Bob','Los Angeles','2022-07-21'),\n",
    "(3,'Charlie','Chicago','2023-01-15'),\n",
    "(4,'Diana','Houston','2023-03-30');"
   ]
  },
  {
   "cell_type": "markdown",
   "metadata": {
    "application/vnd.databricks.v1+cell": {
     "cellMetadata": {
      "byteLimit": 2048000,
      "rowLimit": 10000
     },
     "inputWidgets": {},
     "nuid": "eea8df52-d0f9-481b-bdc0-f03b1d870f02",
     "showTitle": false,
     "tableResultSettingsMap": {},
     "title": ""
    }
   },
   "source": [
    "## 4️⃣ Orders Table"
   ]
  },
  {
   "cell_type": "code",
   "execution_count": 0,
   "metadata": {
    "application/vnd.databricks.v1+cell": {
     "cellMetadata": {
      "byteLimit": 2048000,
      "rowLimit": 10000
     },
     "inputWidgets": {},
     "nuid": "6ae2abe6-2394-482c-b815-3986772071ff",
     "showTitle": false,
     "tableResultSettingsMap": {},
     "title": ""
    }
   },
   "outputs": [],
   "source": [
    "CREATE TABLE Orders (\n",
    "  OrderID INT PRIMARY KEY,\n",
    "  CustomerID INT,\n",
    "  OrderDate DATE,\n",
    "  Amount DECIMAL(10,2),\n",
    "  Status VARCHAR(20)\n",
    ");\n",
    "\n",
    "INSERT INTO Orders (OrderID, CustomerID, OrderDate, Amount, Status) VALUES\n",
    "(1001,1,'2023-04-05',150.00,'Completed'),\n",
    "(1002,1,'2023-05-12',200.00,'Pending'),\n",
    "(1003,2,'2023-06-15',300.00,'Completed'),\n",
    "(1004,3,'2023-07-22',120.00,'Cancelled'),\n",
    "(1005,4,'2023-08-10',500.00,'Completed');\n"
   ]
  },
  {
   "cell_type": "markdown",
   "metadata": {
    "application/vnd.databricks.v1+cell": {
     "cellMetadata": {
      "byteLimit": 2048000,
      "rowLimit": 10000
     },
     "inputWidgets": {},
     "nuid": "ed9bda22-06cd-4158-a6c9-ef2dc925d382",
     "showTitle": false,
     "tableResultSettingsMap": {},
     "title": ""
    }
   },
   "source": [
    "## 5️⃣ Suppliers Table "
   ]
  },
  {
   "cell_type": "code",
   "execution_count": 0,
   "metadata": {
    "application/vnd.databricks.v1+cell": {
     "cellMetadata": {
      "byteLimit": 2048000,
      "rowLimit": 10000
     },
     "inputWidgets": {},
     "nuid": "dd45d0af-4d99-4cba-8a53-f9e53d65ff2f",
     "showTitle": false,
     "tableResultSettingsMap": {},
     "title": ""
    }
   },
   "outputs": [],
   "source": [
    "CREATE TABLE Suppliers (\n",
    "  supplierID INT PRIMARY KEY,\n",
    "  supplierName VARCHAR(50) NOT NULL,\n",
    "  City VARCHAR(50),\n",
    "  suppliedDate DATE \n",
    ");\n",
    "\n",
    "INSERT INTO Suppliers (supplierID, supplierName, City, suppliedDate) VALUES\n",
    "(1,'Klin','New York','2021-05-05'),\n",
    "(2,'konm','Los Angeles','2022-07-05'),\n",
    "(3,'david','Chicago','2023-01-05'),\n",
    "(4,'mark','new York','2023-03-15');\n"
   ]
  },
  {
   "cell_type": "markdown",
   "metadata": {
    "application/vnd.databricks.v1+cell": {
     "cellMetadata": {
      "byteLimit": 2048000,
      "rowLimit": 10000
     },
     "inputWidgets": {},
     "nuid": "4b9692f1-c611-48b9-ae73-dfc28babaa16",
     "showTitle": false,
     "tableResultSettingsMap": {},
     "title": ""
    }
   },
   "source": [
    "## FormerEmployees Table"
   ]
  },
  {
   "cell_type": "code",
   "execution_count": 0,
   "metadata": {
    "application/vnd.databricks.v1+cell": {
     "cellMetadata": {
      "byteLimit": 2048000,
      "rowLimit": 10000
     },
     "inputWidgets": {},
     "nuid": "39c58f9b-e331-4051-8364-920969e507f3",
     "showTitle": false,
     "tableResultSettingsMap": {},
     "title": ""
    }
   },
   "outputs": [],
   "source": [
    "CREATE TABLE FormerEmployees (\n",
    "  EmployeeID INT,\n",
    "  Name VARCHAR(100),\n",
    "  Department VARCHAR(50)\n",
    ");\n",
    "INSERT INTO FormerEmployees (EmployeeID, Name, Department)\n",
    "SELECT EmployeeID, FirstName, Department\n",
    "FROM employees\n",
    "WHERE ManagerID IS NULL;"
   ]
  },
  {
   "cell_type": "markdown",
   "metadata": {
    "application/vnd.databricks.v1+cell": {
     "cellMetadata": {
      "byteLimit": 2048000,
      "rowLimit": 10000
     },
     "inputWidgets": {},
     "nuid": "a42cf035-d236-49f8-8865-ab2ae29d3c08",
     "showTitle": false,
     "tableResultSettingsMap": {},
     "title": ""
    }
   },
   "source": [
    "## 🧩 What You Can Practice With These Tables\n",
    "\n",
    "| Concept          | Example Query                              |\n",
    "| ---------------- | ------------------------------------------ |\n",
    "| **INNER JOIN**   | Employees + Departments                    |\n",
    "| **LEFT JOIN**    | Customers + Orders                         |\n",
    "| **GROUP BY**     | Orders by Customer                         |\n",
    "| **HAVING**       | Customers with total order amount > 300    |\n",
    "| **Subquery**     | Employees earning above avg salary         |\n",
    "| **Views**        | Create a view of high-salary employees     |\n",
    "| **Transactions** | Transfer an order, update customer         |\n",
    "| **Constraints**  | Check primary key, foreign key enforcement |\n"
   ]
  }
 ],
 "metadata": {
  "application/vnd.databricks.v1+notebook": {
   "computePreferences": {
    "hardware": {
     "accelerator": null,
     "gpuPoolId": null,
     "memory": null
    }
   },
   "dashboards": [],
   "environmentMetadata": {
    "base_environment": "",
    "environment_version": "3"
   },
   "inputWidgetPreferences": null,
   "language": "sql",
   "notebookMetadata": {
    "pythonIndentUnit": 4
   },
   "notebookName": "Tables for  SQL BEGINNER",
   "widgets": {}
  },
  "language_info": {
   "name": "sql"
  }
 },
 "nbformat": 4,
 "nbformat_minor": 0
}
