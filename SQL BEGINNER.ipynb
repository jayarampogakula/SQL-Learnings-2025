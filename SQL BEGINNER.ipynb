{
 "cells": [
  {
   "cell_type": "markdown",
   "metadata": {
    "application/vnd.databricks.v1+cell": {
     "cellMetadata": {},
     "inputWidgets": {},
     "nuid": "c8eb5378-54f6-4ac8-92e8-9811ed828351",
     "showTitle": false,
     "tableResultSettingsMap": {},
     "title": ""
    }
   },
   "source": [
    "## 1️⃣ Working with Multiple Tables (Joins)\n",
    "\n",
    "Combine data from two or more tables based on related columns.\n",
    "\n",
    "| Join Type  | What It Returns                                  |\n",
    "| ---------- | ------------------------------------------------ |\n",
    "| INNER JOIN | Only matching rows in both tables                |\n",
    "| LEFT JOIN  | All rows from left table + matching from right   |\n",
    "| RIGHT JOIN | All rows from right table + matching from left   |\n",
    "| FULL OUTER | All rows from both tables (matches + nonmatches) |\n"
   ]
  },
  {
   "cell_type": "code",
   "execution_count": 0,
   "metadata": {
    "application/vnd.databricks.v1+cell": {
     "cellMetadata": {
      "byteLimit": 2048000,
      "rowLimit": 10000
     },
     "inputWidgets": {},
     "nuid": "801f2dd5-b419-4396-b97e-c2d1e4ef3020",
     "showTitle": false,
     "tableResultSettingsMap": {
      "0": {
       "dataGridStateBlob": "{\"version\":1,\"tableState\":{\"columnPinning\":{\"left\":[\"#row_number#\"],\"right\":[]},\"columnSizing\":{},\"columnVisibility\":{}},\"settings\":{\"columns\":{}},\"syncTimestamp\":1759249490628}",
       "filterBlob": null,
       "queryPlanFiltersBlob": null,
       "tableResultIndex": 0
      }
     },
     "title": ""
    }
   },
   "outputs": [],
   "source": [
    "SELECT *\n",
    "FROM Customers c\n",
    "right JOIN Orders o\n",
    "  ON c.CustomerID = o.customerID;\n"
   ]
  },
  {
   "cell_type": "markdown",
   "metadata": {
    "application/vnd.databricks.v1+cell": {
     "cellMetadata": {},
     "inputWidgets": {},
     "nuid": "0c1d2c2e-c7bc-4181-b453-cc44528a2ee9",
     "showTitle": false,
     "tableResultSettingsMap": {},
     "title": ""
    }
   },
   "source": [
    "## 2️⃣ Grouping & Aggregating Data\n",
    "\n",
    "Aggregate functions summarize data; \n",
    "\n",
    "- GROUP BY groups rows so aggregates work per group.\n",
    "\n",
    "- HAVING filters groups after aggregation (while WHERE filters rows before aggregation)."
   ]
  },
  {
   "cell_type": "code",
   "execution_count": 0,
   "metadata": {
    "application/vnd.databricks.v1+cell": {
     "cellMetadata": {
      "byteLimit": 2048000,
      "rowLimit": 10000
     },
     "inputWidgets": {},
     "nuid": "fc8dfefe-ab3f-44b0-9d06-1a31d3c83d8b",
     "showTitle": false,
     "tableResultSettingsMap": {},
     "title": ""
    }
   },
   "outputs": [],
   "source": [
    "-- SELECT Department, sum(salary) AS NumEmployees\n",
    "-- FROM Employees\n",
    "-- GROUP BY Department having count(*)>1\n",
    "\n",
    "SELECT Department, AVG(Salary) AS AvgSalary\n",
    "FROM Employees\n",
    "GROUP BY Department\n",
    "HAVING AVG(Salary) > 60000;\n"
   ]
  },
  {
   "cell_type": "markdown",
   "metadata": {
    "application/vnd.databricks.v1+cell": {
     "cellMetadata": {},
     "inputWidgets": {},
     "nuid": "3d55c0f0-2119-4e0b-8809-21883e4fccdc",
     "showTitle": false,
     "tableResultSettingsMap": {},
     "title": ""
    }
   },
   "source": [
    "## 3️⃣ Subqueries (Intro)\n",
    "\n",
    "A subquery is a query inside another query."
   ]
  },
  {
   "cell_type": "code",
   "execution_count": 0,
   "metadata": {
    "application/vnd.databricks.v1+cell": {
     "cellMetadata": {},
     "inputWidgets": {},
     "nuid": "0f1171fa-2c25-4dbb-ae8d-c7a70242d7af",
     "showTitle": false,
     "tableResultSettingsMap": {},
     "title": ""
    }
   },
   "outputs": [],
   "source": [
    "-- Subquery in WHERE\n",
    "SELECT FirstName, Salary\n",
    "FROM Employees\n",
    "WHERE Salary > (SELECT AVG(Salary) FROM Employees);\n",
    "\n",
    "-- Subquery in FROM (derived table)\n",
    "SELECT Department, MaxSalary\n",
    "FROM (\n",
    "  SELECT Department, MAX(Salary) AS MaxSalary\n",
    "  FROM Employees\n",
    "  GROUP BY Department\n",
    ") AS DeptMax;\n"
   ]
  },
  {
   "cell_type": "markdown",
   "metadata": {
    "application/vnd.databricks.v1+cell": {
     "cellMetadata": {},
     "inputWidgets": {},
     "nuid": "8f47959a-c3dd-4631-8247-3dea7ed915bb",
     "showTitle": false,
     "tableResultSettingsMap": {},
     "title": ""
    }
   },
   "source": [
    "## 4️⃣ Basic Set Operations\n",
    "\n",
    "Combine results from multiple queries."
   ]
  },
  {
   "cell_type": "code",
   "execution_count": 0,
   "metadata": {
    "application/vnd.databricks.v1+cell": {
     "cellMetadata": {},
     "inputWidgets": {},
     "nuid": "3a6c24e2-208f-4af1-9f61-455151579c23",
     "showTitle": false,
     "tableResultSettingsMap": {},
     "title": ""
    }
   },
   "outputs": [],
   "source": [
    "SELECT City FROM Customers\n",
    "UNION\n",
    "SELECT City FROM Suppliers;         -- removes duplicates\n",
    "\n",
    "SELECT City FROM Customers\n",
    "UNION ALL\n",
    "SELECT City FROM Suppliers;         -- keeps duplicates\n"
   ]
  },
  {
   "cell_type": "markdown",
   "metadata": {
    "application/vnd.databricks.v1+cell": {
     "cellMetadata": {},
     "inputWidgets": {},
     "nuid": "a5b29d6d-41c4-49db-9da6-d933e0166ab6",
     "showTitle": false,
     "tableResultSettingsMap": {},
     "title": ""
    }
   },
   "source": [
    "## 5️⃣ Data Modification – Beyond Basics\n",
    "\n",
    "You can insert from one table to another, or delete/update with conditions across tables."
   ]
  },
  {
   "cell_type": "code",
   "execution_count": 0,
   "metadata": {
    "application/vnd.databricks.v1+cell": {
     "cellMetadata": {
      "byteLimit": 2048000,
      "rowLimit": 10000
     },
     "inputWidgets": {},
     "nuid": "38ab5d4b-ffc9-46f8-89a7-60eb8f452e29",
     "showTitle": false,
     "tableResultSettingsMap": {},
     "title": ""
    }
   },
   "outputs": [],
   "source": [
    "-- Insert from another table\n",
    "INSERT INTO FormerEmployees (EmployeeID, Name, Department)\n",
    "SELECT EmployeeID, FirstName, Department\n",
    "FROM Employees\n",
    "WHERE ManagerID is not null ;\n"
   ]
  },
  {
   "cell_type": "markdown",
   "metadata": {
    "application/vnd.databricks.v1+cell": {
     "cellMetadata": {},
     "inputWidgets": {},
     "nuid": "a2913a1e-57a7-4943-9a6b-a9c49d35e069",
     "showTitle": false,
     "tableResultSettingsMap": {},
     "title": ""
    }
   },
   "source": [
    "## 6️⃣ Data Constraints & Integrity\n",
    "\n",
    "Constraints maintain valid data.\n",
    "\n",
    "Primary Key – uniquely identifies a row\n",
    "\n",
    "Foreign Key – enforces relationship between tables\n",
    "\n",
    "NOT NULL – column must have value\n",
    "\n",
    "UNIQUE – no duplicates\n",
    "\n",
    "DEFAULT – assigns a default value"
   ]
  },
  {
   "cell_type": "code",
   "execution_count": 0,
   "metadata": {
    "application/vnd.databricks.v1+cell": {
     "cellMetadata": {},
     "inputWidgets": {},
     "nuid": "b858a04e-bf2b-410a-ac46-5e236e3fc797",
     "showTitle": false,
     "tableResultSettingsMap": {},
     "title": ""
    }
   },
   "outputs": [],
   "source": [
    "CREATE TABLE Departments (\n",
    "  DepartmentID INT PRIMARY KEY,\n",
    "  DepartmentName VARCHAR(50) NOT NULL UNIQUE\n",
    ");\n"
   ]
  },
  {
   "cell_type": "markdown",
   "metadata": {
    "application/vnd.databricks.v1+cell": {
     "cellMetadata": {},
     "inputWidgets": {},
     "nuid": "123c46fd-53f3-4a18-9486-054d2aa4c0c5",
     "showTitle": false,
     "tableResultSettingsMap": {},
     "title": ""
    }
   },
   "source": [
    "## 7️⃣ Built-in Functions (More)\n",
    "\n",
    "String Functions\n",
    "\n",
    "- CONCAT(col1,col2)\n",
    "\n",
    "- SUBSTRING(col, start, length)\n",
    "\n",
    "- TRIM(col)\n",
    "\n",
    "- REPLACE(col, 'old', 'new')\n",
    "\n",
    "Date Functions\n",
    "\n",
    "- DATEADD(interval, number, date)\n",
    "\n",
    "- DATEDIFF(interval, date1, date2)\n",
    "\n",
    "- DATEPART(part, date)\n",
    "\n",
    "Conditional Expression\n",
    "\n",
    "- CASE WHEN condition THEN value ELSE other END"
   ]
  },
  {
   "cell_type": "code",
   "execution_count": 0,
   "metadata": {
    "application/vnd.databricks.v1+cell": {
     "cellMetadata": {
      "byteLimit": 2048000,
      "rowLimit": 10000
     },
     "inputWidgets": {},
     "nuid": "521bd0f2-218b-4fae-892b-b54dfefdbe4c",
     "showTitle": false,
     "tableResultSettingsMap": {
      "0": {
       "dataGridStateBlob": "{\"version\":1,\"tableState\":{\"columnPinning\":{\"left\":[\"#row_number#\"],\"right\":[]},\"columnSizing\":{},\"columnVisibility\":{}},\"settings\":{\"columns\":{}},\"syncTimestamp\":1759250794964}",
       "filterBlob": null,
       "queryPlanFiltersBlob": null,
       "tableResultIndex": 0
      }
     },
     "title": ""
    }
   },
   "outputs": [],
   "source": [
    "-- SELECT CONCAT(FirstName,' ',LastName) AS FullName FROM Employees;\n",
    "-- SELECT lastName, SUBSTRING(LastName,1,1) FROM Employees;\n",
    "SELECT CASE WHEN Salary>60000 THEN 'High' ELSE 'Normal' END AS SalaryLevel FROM Employees;\n"
   ]
  },
  {
   "cell_type": "markdown",
   "metadata": {
    "application/vnd.databricks.v1+cell": {
     "cellMetadata": {},
     "inputWidgets": {},
     "nuid": "c02f9a77-09e2-4a92-a0a0-0b314b6258e4",
     "showTitle": false,
     "tableResultSettingsMap": {},
     "title": ""
    }
   },
   "source": [
    "## 8️⃣ Views (Intro)\n",
    "\n",
    "A view is a saved SQL query that behaves like a virtual table.\n",
    "It can simplify complex queries and provide a layer of security."
   ]
  },
  {
   "cell_type": "code",
   "execution_count": 0,
   "metadata": {
    "application/vnd.databricks.v1+cell": {
     "cellMetadata": {},
     "inputWidgets": {},
     "nuid": "ab71d77c-e9cd-43aa-a428-59e1b131d61a",
     "showTitle": false,
     "tableResultSettingsMap": {},
     "title": ""
    }
   },
   "outputs": [],
   "source": [
    "CREATE VIEW HighSalaryEmployees AS\n",
    "SELECT FirstName, Salary\n",
    "FROM Employees\n",
    "WHERE Salary > 70000;\n",
    "\n",
    "SELECT * FROM HighSalaryEmployees;\n"
   ]
  },
  {
   "cell_type": "markdown",
   "metadata": {
    "application/vnd.databricks.v1+cell": {
     "cellMetadata": {},
     "inputWidgets": {},
     "nuid": "06f6d8f8-8309-4747-b029-cb6b7b185f62",
     "showTitle": false,
     "tableResultSettingsMap": {},
     "title": ""
    }
   },
   "source": [
    "## 9️⃣ Transactions (Intro)\n",
    "\n",
    "Transactions group multiple operations so they succeed or fail together."
   ]
  },
  {
   "cell_type": "code",
   "execution_count": 0,
   "metadata": {
    "application/vnd.databricks.v1+cell": {
     "cellMetadata": {},
     "inputWidgets": {},
     "nuid": "20589c6b-cf25-4ae2-aaa1-e4f6171a7247",
     "showTitle": false,
     "tableResultSettingsMap": {},
     "title": ""
    }
   },
   "outputs": [],
   "source": [
    "BEGIN TRANSACTION;\n",
    "\n",
    "UPDATE Accounts SET Balance = Balance - 500 WHERE AccountID = 1;\n",
    "UPDATE Accounts SET Balance = Balance + 500 WHERE AccountID = 2;\n",
    "\n",
    "COMMIT;   -- if all good\n",
    "-- or\n",
    "ROLLBACK; -- to undo if error\n"
   ]
  },
  {
   "cell_type": "markdown",
   "metadata": {
    "application/vnd.databricks.v1+cell": {
     "cellMetadata": {},
     "inputWidgets": {},
     "nuid": "da905eaf-e7aa-4b38-abe4-3210eae61efc",
     "showTitle": false,
     "tableResultSettingsMap": {},
     "title": ""
    }
   },
   "source": [
    "## 🔟 Security Basics\n",
    "\n",
    "Basic permissions in SQL."
   ]
  },
  {
   "cell_type": "code",
   "execution_count": 0,
   "metadata": {
    "application/vnd.databricks.v1+cell": {
     "cellMetadata": {},
     "inputWidgets": {},
     "nuid": "174f0058-c544-40f4-b41d-88327f4f59a4",
     "showTitle": false,
     "tableResultSettingsMap": {},
     "title": ""
    }
   },
   "outputs": [],
   "source": [
    "GRANT SELECT ON Employees TO AnalystUser;\n",
    "REVOKE SELECT ON Employees FROM AnalystUser;\n"
   ]
  },
  {
   "cell_type": "markdown",
   "metadata": {
    "application/vnd.databricks.v1+cell": {
     "cellMetadata": {},
     "inputWidgets": {},
     "nuid": "8dc35b89-a911-49ba-bd64-4c16757d0afe",
     "showTitle": false,
     "tableResultSettingsMap": {},
     "title": ""
    }
   },
   "source": [
    "## 🔟+1 Putting It All Together (Practice Scenario)\n",
    "\n",
    "Create two tables: Customers and Orders.\n",
    "\n",
    "Insert some rows in both.\n",
    "\n",
    "Perform:\n",
    "\n",
    "- INNER JOIN to see which customers placed orders.\n",
    "\n",
    "- GROUP BY to count orders per customer.\n",
    "\n",
    "- Subquery to find customers with above-average orders.\n",
    "\n",
    "- Create a view to show active customers.\n",
    "\n",
    "- Use a transaction to insert an order and update inventory together.\n",
    "\n",
    "- Add constraints to enforce data integrity."
   ]
  }
 ],
 "metadata": {
  "application/vnd.databricks.v1+notebook": {
   "computePreferences": {
    "hardware": {
     "accelerator": null,
     "gpuPoolId": null,
     "memory": null
    }
   },
   "dashboards": [],
   "environmentMetadata": {
    "base_environment": "",
    "environment_version": "3"
   },
   "inputWidgetPreferences": null,
   "language": "sql",
   "notebookMetadata": {
    "pythonIndentUnit": 4
   },
   "notebookName": "SQL BEGINNER",
   "widgets": {}
  },
  "language_info": {
   "name": "sql"
  }
 },
 "nbformat": 4,
 "nbformat_minor": 0
}
