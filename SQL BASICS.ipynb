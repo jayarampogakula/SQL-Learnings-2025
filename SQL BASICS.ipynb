{
 "cells": [
  {
   "cell_type": "markdown",
   "metadata": {
    "application/vnd.databricks.v1+cell": {
     "cellMetadata": {},
     "inputWidgets": {},
     "nuid": "de00f733-9360-415f-a0bc-898cb01e4afb",
     "showTitle": false,
     "tableResultSettingsMap": {},
     "title": ""
    }
   },
   "source": [
    "## 1️⃣ Introduction to SQL\n",
    "\n",
    "SQL (Structured Query Language) is the standard language to interact with relational databases.\n",
    "\n",
    "A database stores data in tables.\n",
    "\n",
    "A table consists of rows (records) and columns (fields).\n",
    "\n",
    "SQL lets you create tables, insert data, retrieve data, and manipulate data.\n",
    "Popular systems: SQL Server, MySQL, PostgreSQL, Oracle."
   ]
  },
  {
   "cell_type": "markdown",
   "metadata": {
    "application/vnd.databricks.v1+cell": {
     "cellMetadata": {},
     "inputWidgets": {},
     "nuid": "fe917549-081e-4dc8-b8a3-47ddec94f095",
     "showTitle": false,
     "tableResultSettingsMap": {},
     "title": ""
    }
   },
   "source": [
    "### Core Components of SQL\n",
    "| Command Type                           | Examples                     | Purpose                           |\n",
    "| -------------------------------------- | ---------------------------- | --------------------------------- |\n",
    "| **DDL** (Data Definition Language)     | `CREATE`, `ALTER`, `DROP`    | Structure objects (tables, views) |\n",
    "| **DML** (Data Manipulation Language)   | `INSERT`, `UPDATE`, `DELETE` | Change data                       |\n",
    "| **DQL** (Data Query Language)          | `SELECT`                     | Retrieve data                     |\n",
    "| **DCL** (Data Control Language)        | `GRANT`, `REVOKE`            | Permissions                       |\n",
    "| **TCL** (Transaction Control Language) | `COMMIT`, `ROLLBACK`         | Control transactions              |\n"
   ]
  },
  {
   "cell_type": "markdown",
   "metadata": {
    "application/vnd.databricks.v1+cell": {
     "cellMetadata": {},
     "inputWidgets": {},
     "nuid": "0dd40efa-2821-4895-852b-047773d26d4b",
     "showTitle": false,
     "tableResultSettingsMap": {},
     "title": ""
    }
   },
   "source": [
    "## 2️⃣ Understanding Databases & Tables\n",
    "\n",
    "A database is like a folder, and tables are files within it.\n",
    "\n",
    "Primary Key: A column (or set of columns) that uniquely identifies each row.\n",
    "\n",
    "Foreign Key: A column in one table that references the primary key in another table.\n",
    "\n",
    "Data Types:\n",
    "\n",
    "- INT for whole numbers\n",
    "\n",
    "- VARCHAR(n) for text\n",
    "\n",
    "- DATE for dates\n",
    "\n",
    "- DECIMAL(p,s) for precise numeric values            |\n"
   ]
  },
  {
   "cell_type": "code",
   "execution_count": 0,
   "metadata": {
    "application/vnd.databricks.v1+cell": {
     "cellMetadata": {
      "byteLimit": 2048000,
      "implicitDf": true,
      "rowLimit": 10000
     },
     "inputWidgets": {},
     "nuid": "0d06305d-2704-4fee-99d9-11543b7fb097",
     "showTitle": false,
     "tableResultSettingsMap": {},
     "title": ""
    }
   },
   "outputs": [],
   "source": [
    "%sql\n",
    "CREATE TABLE Employees (\n",
    "  EmployeeID INT PRIMARY KEY,\n",
    "  FirstName VARCHAR(50),\n",
    "  LastName VARCHAR(50),\n",
    "  HireDate DATE,\n",
    "  Salary DECIMAL(10,2),\n",
    "  Department VARCHAR(50)\n",
    ");\n"
   ]
  },
  {
   "cell_type": "code",
   "execution_count": 0,
   "metadata": {
    "application/vnd.databricks.v1+cell": {
     "cellMetadata": {
      "byteLimit": 2048000,
      "implicitDf": true,
      "rowLimit": 10000
     },
     "inputWidgets": {},
     "nuid": "a051f990-eac6-4364-b748-9ac819e8c52c",
     "showTitle": false,
     "tableResultSettingsMap": {},
     "title": ""
    }
   },
   "outputs": [],
   "source": [
    "%sql\n",
    "INSERT INTO Employees (EmployeeID, FirstName, LastName, HireDate, Salary, Department)\n",
    "VALUES \n",
    "  (1, 'John', 'Doe', '2020-01-01', 50000, 'IT'),\n",
    "  (2, 'Kim', 'Vander', '2021-03-15', 60000, 'HR'),\n",
    "  (3, 'Alice', 'Smith', '2019-07-10', 75000, 'Finance'),\n",
    "  (4, 'Bob', 'Brown', '2022-02-20', 48000, 'IT'),\n",
    "  (5, 'Carol', 'White', '2018-11-05', 82000, 'Marketing'),\n",
    "  (6, 'David', 'Lee', '2023-05-12', 51000, 'IT');"
   ]
  },
  {
   "cell_type": "markdown",
   "metadata": {
    "application/vnd.databricks.v1+cell": {
     "cellMetadata": {},
     "inputWidgets": {},
     "nuid": "ee7ace59-60c3-4e5a-9fe5-a1ce65a77fdd",
     "showTitle": false,
     "tableResultSettingsMap": {},
     "title": ""
    }
   },
   "source": [
    "## 3️⃣ Retrieving Data with SELECT\n",
    "\n",
    "The SELECT statement reads data from tables.\n",
    "\n",
    "SELECT * retrieves all columns.\n",
    "\n",
    "You can specify column names to retrieve only what you need.\n",
    "\n",
    "Aliases rename columns for clarity."
   ]
  },
  {
   "cell_type": "code",
   "execution_count": 0,
   "metadata": {
    "application/vnd.databricks.v1+cell": {
     "cellMetadata": {
      "byteLimit": 2048000,
      "implicitDf": true,
      "rowLimit": 10000
     },
     "inputWidgets": {},
     "nuid": "0816c62a-37a2-4125-afe4-61d05ded66ba",
     "showTitle": false,
     "tableResultSettingsMap": {},
     "title": ""
    }
   },
   "outputs": [],
   "source": [
    "%sql\n",
    "-- SELECT * FROM Employees;\n",
    "-- SELECT FirstName, LastName FROM Employees;\n",
    "SELECT FirstName AS FName, LastName AS LName FROM Employees;\n"
   ]
  },
  {
   "cell_type": "markdown",
   "metadata": {
    "application/vnd.databricks.v1+cell": {
     "cellMetadata": {},
     "inputWidgets": {},
     "nuid": "4e646966-97cb-40d4-ac49-c082f732f791",
     "showTitle": false,
     "tableResultSettingsMap": {},
     "title": ""
    }
   },
   "source": [
    "## 4️⃣ Filtering Data with WHERE\n",
    "\n",
    "The WHERE clause filters rows based on conditions.\n",
    "\n",
    "Operators:\n",
    "\n",
    "Comparison: =, <>, >, <, >=, <=\n",
    "\n",
    "Logical: AND, OR, NOT"
   ]
  },
  {
   "cell_type": "code",
   "execution_count": 0,
   "metadata": {
    "application/vnd.databricks.v1+cell": {
     "cellMetadata": {
      "byteLimit": 2048000,
      "implicitDf": true,
      "rowLimit": 10000
     },
     "inputWidgets": {},
     "nuid": "2a8bab52-0078-4f3d-9d38-0b3e901a0758",
     "showTitle": false,
     "tableResultSettingsMap": {},
     "title": ""
    }
   },
   "outputs": [],
   "source": [
    "%sql\n",
    "-- SELECT * FROM Employees WHERE Department = 'IT';\n",
    "SELECT * FROM Employees WHERE Salary > 50000 AND Department <> 'HR';\n"
   ]
  },
  {
   "cell_type": "markdown",
   "metadata": {
    "application/vnd.databricks.v1+cell": {
     "cellMetadata": {},
     "inputWidgets": {},
     "nuid": "001ab476-facc-4e89-a55a-d0206b2d57c6",
     "showTitle": false,
     "tableResultSettingsMap": {},
     "title": ""
    }
   },
   "source": [
    "## 5️⃣ Sorting Results with ORDER BY\n",
    "\n",
    "Use ORDER BY to arrange rows.\n",
    "\n",
    "Default is ascending (ASC).\n",
    "\n",
    "Use DESC for descending order."
   ]
  },
  {
   "cell_type": "code",
   "execution_count": 0,
   "metadata": {
    "application/vnd.databricks.v1+cell": {
     "cellMetadata": {
      "byteLimit": 2048000,
      "implicitDf": true,
      "rowLimit": 10000
     },
     "inputWidgets": {},
     "nuid": "627e472b-4ef4-4be4-a4f5-4a573391c91f",
     "showTitle": false,
     "tableResultSettingsMap": {},
     "title": ""
    }
   },
   "outputs": [],
   "source": [
    "%sql\n",
    "SELECT * FROM Employees ORDER BY LastName ASC;\n",
    "-- SELECT * FROM Employees ORDER BY Salary DESC;\n"
   ]
  },
  {
   "cell_type": "markdown",
   "metadata": {
    "application/vnd.databricks.v1+cell": {
     "cellMetadata": {},
     "inputWidgets": {},
     "nuid": "9181fa57-8cda-447f-ab35-e10103b0cce0",
     "showTitle": false,
     "tableResultSettingsMap": {},
     "title": ""
    }
   },
   "source": [
    "## 6️⃣ Limiting Results\n",
    "\n",
    "Get only a few rows:\n",
    "\n",
    "SQL Server: TOP\n",
    "\n",
    "MySQL/PostgreSQL: LIMIT"
   ]
  },
  {
   "cell_type": "code",
   "execution_count": 0,
   "metadata": {
    "application/vnd.databricks.v1+cell": {
     "cellMetadata": {
      "byteLimit": 2048000,
      "implicitDf": true,
      "rowLimit": 10000
     },
     "inputWidgets": {},
     "nuid": "d0d884ed-1144-4fab-9c77-1c766498e748",
     "showTitle": false,
     "tableResultSettingsMap": {},
     "title": ""
    }
   },
   "outputs": [],
   "source": [
    "%sql\n",
    "SELECT * FROM Employees LIMIT 5;    \n",
    "-- SELECT TOP 5 * FROM Employees;"
   ]
  },
  {
   "cell_type": "markdown",
   "metadata": {
    "application/vnd.databricks.v1+cell": {
     "cellMetadata": {},
     "inputWidgets": {},
     "nuid": "c0aeaf5f-23d1-4cdd-926b-dd5e5679834f",
     "showTitle": false,
     "tableResultSettingsMap": {},
     "title": ""
    }
   },
   "source": [
    "## 7️⃣ Using Basic Functions\n",
    "\n",
    "SQL has built-in functions for text, numbers, and dates.\n",
    "\n",
    "String Functions:\n",
    "\n",
    "- UPPER(Column) – uppercase\n",
    "\n",
    "- LOWER(Column) – lowercase\n",
    "\n",
    "- LEN() or LENGTH() – string length\n",
    "\n",
    "Numeric Functions:\n",
    "\n",
    "- ROUND(Column, decimals) – round numbers\n",
    "\n",
    "- ABS(Column) – absolute value\n",
    "\n",
    "Date/Time Functions:\n",
    "\n",
    "- GETDATE() (SQL Server) or NOW() (MySQL/PostgreSQL) – current date/time"
   ]
  },
  {
   "cell_type": "code",
   "execution_count": 0,
   "metadata": {
    "application/vnd.databricks.v1+cell": {
     "cellMetadata": {
      "byteLimit": 2048000,
      "implicitDf": true,
      "rowLimit": 10000
     },
     "inputWidgets": {},
     "nuid": "0d903533-b0ef-4871-93ef-8b07f0ad4951",
     "showTitle": false,
     "tableResultSettingsMap": {
      "0": {
       "dataGridStateBlob": "{\"version\":1,\"tableState\":{\"columnPinning\":{\"left\":[\"#row_number#\"],\"right\":[]},\"columnSizing\":{},\"columnVisibility\":{}},\"settings\":{\"columns\":{}},\"syncTimestamp\":1758561780602}",
       "filterBlob": null,
       "queryPlanFiltersBlob": null,
       "tableResultIndex": 0
      }
     },
     "title": ""
    }
   },
   "outputs": [],
   "source": [
    "%sql\n",
    "-- SELECT UPPER(FirstName), ROUND(Salary,2) FROM Employees;\n",
    "SELECT GETDATE();\n"
   ]
  },
  {
   "cell_type": "markdown",
   "metadata": {
    "application/vnd.databricks.v1+cell": {
     "cellMetadata": {},
     "inputWidgets": {},
     "nuid": "ff673d2a-4615-4b24-a716-0183c202474f",
     "showTitle": false,
     "tableResultSettingsMap": {},
     "title": ""
    }
   },
   "source": [
    "## 8️⃣ Aliases & Expressions\n",
    "You can create calculated columns and rename them."
   ]
  },
  {
   "cell_type": "code",
   "execution_count": 0,
   "metadata": {
    "application/vnd.databricks.v1+cell": {
     "cellMetadata": {
      "byteLimit": 2048000,
      "implicitDf": true,
      "rowLimit": 10000
     },
     "inputWidgets": {},
     "nuid": "916deaea-0866-4e7a-b3cb-43ca38ffaf83",
     "showTitle": false,
     "tableResultSettingsMap": {
      "0": {
       "dataGridStateBlob": "{\"version\":1,\"tableState\":{\"columnPinning\":{\"left\":[\"#row_number#\"],\"right\":[]},\"columnSizing\":{},\"columnVisibility\":{}},\"settings\":{\"columns\":{}},\"syncTimestamp\":1758561865704}",
       "filterBlob": null,
       "queryPlanFiltersBlob": null,
       "tableResultIndex": 0
      }
     },
     "title": ""
    }
   },
   "outputs": [],
   "source": [
    "%sql\n",
    "SELECT salary, Salary * 1.1 AS NewSalary FROM Employees;\n"
   ]
  },
  {
   "cell_type": "markdown",
   "metadata": {
    "application/vnd.databricks.v1+cell": {
     "cellMetadata": {},
     "inputWidgets": {},
     "nuid": "b5380111-a809-45ee-bd47-c7d3c2762d7f",
     "showTitle": false,
     "tableResultSettingsMap": {},
     "title": ""
    }
   },
   "source": [
    "## 9️⃣ Handling NULL Values\n",
    "\n",
    "NULL means missing or unknown data.\n",
    "\n",
    "Use IS NULL / IS NOT NULL to filter.\n",
    "\n",
    "Use COALESCE() or ISNULL() to replace NULL with defaults."
   ]
  },
  {
   "cell_type": "code",
   "execution_count": 0,
   "metadata": {
    "application/vnd.databricks.v1+cell": {
     "cellMetadata": {
      "byteLimit": 2048000,
      "implicitDf": true,
      "rowLimit": 10000
     },
     "inputWidgets": {},
     "nuid": "3b2a7bfb-5f0d-4e12-aae0-925d0663b7f1",
     "showTitle": false,
     "tableResultSettingsMap": {
      "0": {
       "dataGridStateBlob": "{\"version\":1,\"tableState\":{\"columnPinning\":{\"left\":[\"#row_number#\"],\"right\":[]},\"columnSizing\":{},\"columnVisibility\":{}},\"settings\":{\"columns\":{}},\"syncTimestamp\":1758562850698}",
       "filterBlob": null,
       "queryPlanFiltersBlob": null,
       "tableResultIndex": 0
      }
     },
     "title": ""
    }
   },
   "outputs": [],
   "source": [
    "%sql\n",
    "-- SELECT * FROM Employees WHERE ManagerID IS NULL;\n",
    "-- SELECT COALESCE(CAST(Phone AS STRING), FirstName) AS Phone FROM Employees;\n",
    "\n",
    "-- SELECT isnull(ManagerID) AS IsManagerIDNull FROM Employees;\n",
    "SELECT isnull(Phone) AS IsPhoneNull FROM Employees;\n"
   ]
  },
  {
   "cell_type": "markdown",
   "metadata": {
    "application/vnd.databricks.v1+cell": {
     "cellMetadata": {},
     "inputWidgets": {},
     "nuid": "d9deee21-d308-4490-8422-a6482a89ebb3",
     "showTitle": false,
     "tableResultSettingsMap": {},
     "title": ""
    }
   },
   "source": [
    "## 🔟 Modifying Data (Insert, Update, Delete)"
   ]
  },
  {
   "cell_type": "markdown",
   "metadata": {
    "application/vnd.databricks.v1+cell": {
     "cellMetadata": {},
     "inputWidgets": {},
     "nuid": "29824239-59d1-494d-9fcc-0f4b1a852fee",
     "showTitle": false,
     "tableResultSettingsMap": {},
     "title": ""
    }
   },
   "source": [
    "ALTER: Add a new column "
   ]
  },
  {
   "cell_type": "code",
   "execution_count": 0,
   "metadata": {
    "application/vnd.databricks.v1+cell": {
     "cellMetadata": {
      "byteLimit": 2048000,
      "implicitDf": true,
      "rowLimit": 10000
     },
     "inputWidgets": {},
     "nuid": "96d10bda-6539-43bf-923f-a2a4f1e9cfe0",
     "showTitle": false,
     "tableResultSettingsMap": {},
     "title": ""
    }
   },
   "outputs": [],
   "source": [
    "%sql\n",
    "\n",
    "-- ALTER TABLE Employees\n",
    "-- ADD COLUMN ManagerID VARCHAR(100);\n",
    "\n",
    "\n",
    "ALTER TABLE Employees\n",
    "ADD COLUMNS (ManagerID VARCHAR(100), Phone BIGINT);"
   ]
  },
  {
   "cell_type": "markdown",
   "metadata": {
    "application/vnd.databricks.v1+cell": {
     "cellMetadata": {},
     "inputWidgets": {},
     "nuid": "9945de4f-fdf7-4357-91aa-aecf6b473a99",
     "showTitle": false,
     "tableResultSettingsMap": {},
     "title": ""
    }
   },
   "source": [
    "ALTER: drop a column "
   ]
  },
  {
   "cell_type": "code",
   "execution_count": 0,
   "metadata": {
    "application/vnd.databricks.v1+cell": {
     "cellMetadata": {
      "byteLimit": 2048000,
      "implicitDf": true,
      "rowLimit": 10000
     },
     "inputWidgets": {},
     "nuid": "6d9e3f72-a962-46ca-b43f-613266e530e4",
     "showTitle": false,
     "tableResultSettingsMap": {},
     "title": ""
    }
   },
   "outputs": [],
   "source": [
    "%sql\n",
    "ALTER TABLE Employees\n",
    "DROP COLUMN ManagerID;\n"
   ]
  },
  {
   "cell_type": "markdown",
   "metadata": {
    "application/vnd.databricks.v1+cell": {
     "cellMetadata": {},
     "inputWidgets": {},
     "nuid": "7b27e05d-39b3-48c3-8f82-499bf1061d16",
     "showTitle": false,
     "tableResultSettingsMap": {},
     "title": ""
    }
   },
   "source": [
    "This is required only for Delta Tables ( Not required for Sql server)"
   ]
  },
  {
   "cell_type": "code",
   "execution_count": 0,
   "metadata": {
    "application/vnd.databricks.v1+cell": {
     "cellMetadata": {
      "byteLimit": 2048000,
      "implicitDf": true,
      "rowLimit": 10000
     },
     "inputWidgets": {},
     "nuid": "210bde09-ed30-4a0e-a915-bf3f2269104f",
     "showTitle": false,
     "tableResultSettingsMap": {},
     "title": ""
    }
   },
   "outputs": [],
   "source": [
    "%sql\n",
    "-- ALTER TABLE Employees SET TBLPROPERTIES ('delta.columnMapping.mode' = 'name')"
   ]
  },
  {
   "cell_type": "markdown",
   "metadata": {
    "application/vnd.databricks.v1+cell": {
     "cellMetadata": {},
     "inputWidgets": {},
     "nuid": "78240f21-783c-44b7-8cc3-fa55882e1181",
     "showTitle": false,
     "tableResultSettingsMap": {},
     "title": ""
    }
   },
   "source": [
    "INSERT: Add new rows"
   ]
  },
  {
   "cell_type": "code",
   "execution_count": 0,
   "metadata": {
    "application/vnd.databricks.v1+cell": {
     "cellMetadata": {
      "byteLimit": 2048000,
      "implicitDf": true,
      "rowLimit": 10000
     },
     "inputWidgets": {},
     "nuid": "3a46fc07-5442-4f32-9410-82a1ccaa9968",
     "showTitle": false,
     "tableResultSettingsMap": {},
     "title": ""
    }
   },
   "outputs": [],
   "source": [
    "%sql\n",
    "INSERT INTO Employees (EmployeeID, ManagerID, Phone)\n",
    "VALUES (7,'NULL', 952455) "
   ]
  },
  {
   "cell_type": "code",
   "execution_count": 0,
   "metadata": {
    "application/vnd.databricks.v1+cell": {
     "cellMetadata": {},
     "inputWidgets": {},
     "nuid": "e82c0f82-83bb-4476-a397-ed21f2fa8619",
     "showTitle": false,
     "tableResultSettingsMap": {},
     "title": ""
    }
   },
   "outputs": [],
   "source": [
    "%sql\n",
    "INSERT INTO Employees (EmployeeID, FirstName, LastName, HireDate, Salary, Department, ManagerID, Phone)\n",
    "VALUES (2,'kim','vander','22-09-2024',60000, 'IT','1', 9040000404);\n"
   ]
  },
  {
   "cell_type": "markdown",
   "metadata": {
    "application/vnd.databricks.v1+cell": {
     "cellMetadata": {},
     "inputWidgets": {},
     "nuid": "da946140-354a-4554-9eb1-98bab29e256c",
     "showTitle": false,
     "tableResultSettingsMap": {},
     "title": ""
    }
   },
   "source": [
    "UPDATE: Change existing rows"
   ]
  },
  {
   "cell_type": "code",
   "execution_count": 0,
   "metadata": {
    "application/vnd.databricks.v1+cell": {
     "cellMetadata": {},
     "inputWidgets": {},
     "nuid": "5adf170a-d3ef-44c1-9e6c-b328e62e21c7",
     "showTitle": false,
     "tableResultSettingsMap": {},
     "title": ""
    }
   },
   "outputs": [],
   "source": [
    "%sql\n",
    "UPDATE Employees SET Salary = 77000 WHERE EmployeeID = 1;\n"
   ]
  },
  {
   "cell_type": "markdown",
   "metadata": {
    "application/vnd.databricks.v1+cell": {
     "cellMetadata": {},
     "inputWidgets": {},
     "nuid": "320825b6-f803-444a-9725-f15ac747819b",
     "showTitle": false,
     "tableResultSettingsMap": {},
     "title": ""
    }
   },
   "source": [
    "DELETE: Remove rows"
   ]
  },
  {
   "cell_type": "code",
   "execution_count": 0,
   "metadata": {
    "application/vnd.databricks.v1+cell": {
     "cellMetadata": {},
     "inputWidgets": {},
     "nuid": "339bc0ea-7047-42e1-9597-e5bb2f2cbc28",
     "showTitle": false,
     "tableResultSettingsMap": {},
     "title": ""
    }
   },
   "outputs": [],
   "source": [
    "%sql\n",
    "DELETE FROM Employees WHERE EmployeeID = 1;\n"
   ]
  },
  {
   "cell_type": "markdown",
   "metadata": {
    "application/vnd.databricks.v1+cell": {
     "cellMetadata": {},
     "inputWidgets": {},
     "nuid": "ad2c337b-46c4-4054-814f-09ecba5a26f1",
     "showTitle": false,
     "tableResultSettingsMap": {},
     "title": ""
    }
   },
   "source": [
    "DROP: drop the table "
   ]
  },
  {
   "cell_type": "code",
   "execution_count": 0,
   "metadata": {
    "application/vnd.databricks.v1+cell": {
     "cellMetadata": {},
     "inputWidgets": {},
     "nuid": "d4468e69-4db4-4ef2-898b-864668a65c36",
     "showTitle": false,
     "tableResultSettingsMap": {},
     "title": ""
    }
   },
   "outputs": [],
   "source": [
    "%sql\n",
    "drop table employees"
   ]
  },
  {
   "cell_type": "markdown",
   "metadata": {
    "application/vnd.databricks.v1+cell": {
     "cellMetadata": {},
     "inputWidgets": {},
     "nuid": "99daabdf-c023-4528-9c35-3cf9d3582511",
     "showTitle": false,
     "tableResultSettingsMap": {},
     "title": ""
    }
   },
   "source": [
    "## 🔟+1 Putting It All Together (Practice Scenario)\n",
    "\n",
    "- Create your own table (e.g., Students):\n",
    "\n",
    "- Insert 5 rows.\n",
    "\n",
    "- Retrieve and filter with SELECT & WHERE.\n",
    "\n",
    "- Sort by marks.\n",
    "\n",
    "- Use UPPER on names.\n",
    "\n",
    "- Add a calculated column (Marks + 5 Bonus).\n",
    "\n",
    "- Handle NULL marks using COALESCE.\n",
    "\n",
    "- Update one record, delete one record.\n",
    "\n",
    "- This exercise covers everything learned above in one go."
   ]
  }
 ],
 "metadata": {
  "application/vnd.databricks.v1+notebook": {
   "computePreferences": {
    "hardware": {
     "accelerator": null,
     "gpuPoolId": null,
     "memory": null
    }
   },
   "dashboards": [],
   "environmentMetadata": {
    "base_environment": "",
    "environment_version": "3"
   },
   "inputWidgetPreferences": null,
   "language": "sql",
   "notebookMetadata": {
    "mostRecentlyExecutedCommandWithImplicitDF": {
     "commandId": 5874117671689183,
     "dataframes": [
      "_sqldf"
     ]
    },
    "pythonIndentUnit": 4
   },
   "notebookName": "SQL BASICS",
   "widgets": {}
  },
  "language_info": {
   "name": "sql"
  }
 },
 "nbformat": 4,
 "nbformat_minor": 0
}
